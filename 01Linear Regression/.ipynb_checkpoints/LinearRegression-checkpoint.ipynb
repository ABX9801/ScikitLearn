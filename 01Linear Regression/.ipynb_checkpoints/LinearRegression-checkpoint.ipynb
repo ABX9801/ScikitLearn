{
 "cells": [
  {
   "cell_type": "markdown",
   "metadata": {},
   "source": [
    "# This is a Project of Applied Machine Learning "
   ]
  },
  {
   "cell_type": "markdown",
   "metadata": {},
   "source": [
    "### We have the auto-mpg dataset;\n",
    "### We will predict Miles-Per-Gallon of the Testing Data\n",
    "### We will use model_selection to split training and testing data"
   ]
  },
  {
   "cell_type": "code",
   "execution_count": 1,
   "metadata": {},
   "outputs": [],
   "source": [
    "import pandas as pd"
   ]
  },
  {
   "cell_type": "code",
   "execution_count": 3,
   "metadata": {},
   "outputs": [
    {
     "name": "stdout",
     "output_type": "stream",
     "text": [
      "    mpg  cylinders  displacement  horsepower  weight  acceleration  \\\n",
      "0  18.0          8         307.0         130    3504          12.0   \n",
      "1  15.0          8         350.0         165    3693          11.5   \n",
      "2  18.0          8         318.0         150    3436          11.0   \n",
      "3  16.0          8         304.0         150    3433          12.0   \n",
      "4  17.0          8         302.0         140    3449          10.5   \n",
      "\n",
      "   model year  origin                   car name  \n",
      "0          70       1  chevrolet chevelle malibu  \n",
      "1          70       1          buick skylark 320  \n",
      "2          70       1         plymouth satellite  \n",
      "3          70       1              amc rebel sst  \n",
      "4          70       1                ford torino  \n"
     ]
    }
   ],
   "source": [
    "data = pd.read_csv('auto-mpg.csv')\n",
    "print(data.head())"
   ]
  },
  {
   "cell_type": "markdown",
   "metadata": {},
   "source": [
    "#### As we have to predict mpg; Y will have mpg values\n",
    "#### X will have rest of the features except name"
   ]
  },
  {
   "cell_type": "code",
   "execution_count": 4,
   "metadata": {},
   "outputs": [
    {
     "name": "stdout",
     "output_type": "stream",
     "text": [
      "0    18.0\n",
      "1    15.0\n",
      "2    18.0\n",
      "3    16.0\n",
      "4    17.0\n",
      "Name: mpg, dtype: float64\n"
     ]
    }
   ],
   "source": [
    "Y = data['mpg']\n",
    "print(Y.head())"
   ]
  },
  {
   "cell_type": "code",
   "execution_count": 10,
   "metadata": {},
   "outputs": [
    {
     "name": "stdout",
     "output_type": "stream",
     "text": [
      "   cylinders  displacement  horsepower  weight  acceleration  model year  \\\n",
      "0          8         307.0         130    3504          12.0          70   \n",
      "1          8         350.0         165    3693          11.5          70   \n",
      "2          8         318.0         150    3436          11.0          70   \n",
      "3          8         304.0         150    3433          12.0          70   \n",
      "4          8         302.0         140    3449          10.5          70   \n",
      "\n",
      "   origin  \n",
      "0       1  \n",
      "1       1  \n",
      "2       1  \n",
      "3       1  \n",
      "4       1  \n"
     ]
    }
   ],
   "source": [
    "X = data.drop(['mpg','car name'],1)\n",
    "print(X.head())"
   ]
  },
  {
   "cell_type": "markdown",
   "metadata": {},
   "source": [
    "#### We will use model_selection and use 70% data for training"
   ]
  },
  {
   "cell_type": "code",
   "execution_count": 11,
   "metadata": {},
   "outputs": [],
   "source": [
    "from sklearn.model_selection import train_test_split\n",
    "\n",
    "X_train,X_test,Y_train,Y_test = train_test_split(X,Y,test_size=0.3)"
   ]
  },
  {
   "cell_type": "markdown",
   "metadata": {},
   "source": [
    "#### Making the Predicter"
   ]
  },
  {
   "cell_type": "code",
   "execution_count": 12,
   "metadata": {},
   "outputs": [],
   "source": [
    "from sklearn.linear_model import LinearRegression\n",
    "reg = LinearRegression()"
   ]
  },
  {
   "cell_type": "markdown",
   "metadata": {},
   "source": [
    "#### Training the data"
   ]
  },
  {
   "cell_type": "code",
   "execution_count": 13,
   "metadata": {},
   "outputs": [
    {
     "data": {
      "text/plain": [
       "LinearRegression(copy_X=True, fit_intercept=True, n_jobs=None, normalize=False)"
      ]
     },
     "execution_count": 13,
     "metadata": {},
     "output_type": "execute_result"
    }
   ],
   "source": [
    "reg.fit(X_train,Y_train)"
   ]
  },
  {
   "cell_type": "markdown",
   "metadata": {},
   "source": [
    "#### Printing the coefficient of determination(R^2 of Prediction)"
   ]
  },
  {
   "cell_type": "code",
   "execution_count": 15,
   "metadata": {},
   "outputs": [
    {
     "data": {
      "text/plain": [
       "0.8029335710344552"
      ]
     },
     "execution_count": 15,
     "metadata": {},
     "output_type": "execute_result"
    }
   ],
   "source": [
    "reg.score(X_test,Y_test)"
   ]
  },
  {
   "cell_type": "markdown",
   "metadata": {},
   "source": [
    "#### The first one is the strengths of all the features(or we can say the slope)\n",
    "#### Then we get intercept of the line"
   ]
  },
  {
   "cell_type": "code",
   "execution_count": 59,
   "metadata": {},
   "outputs": [
    {
     "name": "stdout",
     "output_type": "stream",
     "text": [
      "[-0.64196442  0.01475548 -0.00863746 -0.00586444  0.07737479  0.71227137\n",
      "  1.51645659]\n",
      "-15.287562680267541\n"
     ]
    }
   ],
   "source": [
    "print(reg.coef_)\n",
    "print(reg.intercept_)"
   ]
  },
  {
   "cell_type": "markdown",
   "metadata": {},
   "source": [
    "#### Predicting the Miles-Per-Gallon of the car with the features given below"
   ]
  },
  {
   "cell_type": "code",
   "execution_count": 71,
   "metadata": {},
   "outputs": [
    {
     "data": {
      "text/plain": [
       "array([14.73873652])"
      ]
     },
     "execution_count": 71,
     "metadata": {},
     "output_type": "execute_result"
    }
   ],
   "source": [
    "x=[8,307.0,130,3504,12,70,1]#X[0]\n",
    "reg.predict([x])"
   ]
  },
  {
   "cell_type": "markdown",
   "metadata": {},
   "source": [
    "#### predicted = this list contains the predicted values of mpg of our classifier\n",
    "#### each vaue of predicted can be found out by using theta and c; Predicted[i] = theta*X[i] + c eqn of the regression line; as done in last column\n",
    "#### Yt = the corresponding real mpg values of the cars with features as in X_test"
   ]
  },
  {
   "cell_type": "code",
   "execution_count": 69,
   "metadata": {},
   "outputs": [
    {
     "name": "stdout",
     "output_type": "stream",
     "text": [
      "Predicted             Y_test     Predicted_using_intercept and theta\n",
      "22.459296505219832     24.0     22.459296505219832\n",
      "23.62020775840176     20.0     23.62020775840176\n",
      "21.875311830499058     18.1     21.875311830499058\n",
      "10.546089475561573     14.0     10.546089475561566\n",
      "24.77059148306425     25.0     24.77059148306425\n",
      "27.188001559022744     25.5     27.188001559022744\n",
      "16.285982050552906     13.0     16.285982050552903\n",
      "30.447581912088694     26.0     30.4475819120887\n",
      "34.384077579715864     38.1     34.384077579715864\n",
      "18.64729048817445     15.5     18.64729048817445\n",
      "24.737003304634385     19.8     24.737003304634385\n",
      "8.425949616551776     10.0     8.42594961655178\n",
      "18.59060550473454     18.0     18.59060550473454\n",
      "29.493547768179724     27.5     29.49354776817973\n",
      "27.413019317716227     33.5     27.413019317716227\n",
      "27.549196142341636     38.0     27.549196142341636\n",
      "26.73143262347859     27.9     26.731432623478582\n",
      "29.20060334516876     28.0     29.20060334516875\n",
      "27.42274262079087     24.0     27.422742620790864\n",
      "26.037772298838576     24.3     26.037772298838576\n",
      "12.14822336567996     14.0     12.148223365679957\n",
      "28.823890052731976     31.0     28.82389005273197\n",
      "34.23113785999159     34.0     34.23113785999159\n",
      "25.655781049479586     30.0     25.655781049479586\n",
      "22.83846788107077     19.0     22.83846788107077\n",
      "34.066141793398714     36.0     34.066141793398714\n",
      "13.846771601320349     16.0     13.846771601320349\n",
      "22.50600394808521     20.0     22.5060039480852\n",
      "15.302807000442773     15.0     15.30280700044278\n",
      "25.091633260523516     26.0     25.091633260523516\n",
      "18.924432211243115     20.0     18.924432211243108\n",
      "25.837060226530518     26.0     25.83706022653051\n",
      "31.212913210023217     43.4     31.212913210023217\n",
      "29.13825723309433     31.0     29.138257233094322\n",
      "14.619460185961415     13.0     14.619460185961422\n",
      "28.610695751110583     25.0     28.610695751110583\n",
      "15.779417627189755     15.5     15.779417627189755\n",
      "30.523332724805194     34.7     30.523332724805194\n",
      "11.281732978073745     12.0     11.281732978073748\n",
      "12.947265965858868     14.0     12.947265965858868\n",
      "30.81838238416585     27.2     30.818382384165858\n",
      "20.899663585134448     18.0     20.899663585134448\n",
      "12.83455177262779     13.0     12.83455177262779\n",
      "24.010682051117     20.0     24.010682051117\n",
      "26.12552591042605     27.2     26.12552591042605\n",
      "32.03722585136255     33.0     32.03722585136255\n",
      "27.466007095825148     20.0     27.466007095825148\n",
      "13.470651053570812     15.0     13.470651053570819\n",
      "17.712076656595734     19.0     17.712076656595727\n",
      "34.65825618095657     44.6     34.65825618095656\n",
      "32.51458186552729     32.2     32.51458186552728\n",
      "30.176334686683177     29.8     30.176334686683177\n",
      "23.387946723721598     22.0     23.387946723721598\n",
      "11.086894746693872     14.0     11.086894746693865\n",
      "22.371416137283248     19.0     22.371416137283248\n",
      "19.25100729341193     19.4     19.25100729341193\n",
      "31.873648466771925     29.5     31.873648466771925\n",
      "12.445198630530403     13.0     12.445198630530403\n",
      "16.159137998524546     15.5     16.159137998524542\n",
      "27.75095746087549     22.0     27.750957460875483\n",
      "24.224362666156118     21.0     24.224362666156118\n",
      "20.39334910413637     19.0     20.393349104136362\n",
      "16.39292468235615     16.0     16.392924682356146\n",
      "11.97983505397702     13.0     11.97983505397702\n",
      "19.367153368579523     16.0     19.367153368579523\n",
      "11.67242258733296     13.0     11.672422587332967\n",
      "19.412290512503432     17.0     19.412290512503432\n",
      "18.035082316503562     16.0     18.035082316503562\n",
      "17.570100494999686     18.0     17.57010049499968\n",
      "25.13432617311446     25.0     25.134326173114452\n",
      "26.350439635768744     21.6     26.35043963576875\n",
      "23.41414742586553     17.0     23.41414742586553\n",
      "10.913521728685346     14.0     10.91352172868535\n",
      "11.6797192046836     13.0     11.6797192046836\n",
      "20.58687017637031     17.5     20.58687017637031\n",
      "24.83598797860543     23.0     24.83598797860543\n",
      "26.025750449317357     23.0     26.025750449317357\n",
      "19.960239754624453     20.2     19.960239754624446\n",
      "32.34431285848614     39.0     32.34431285848614\n",
      "34.507705080740564     32.3     34.507705080740564\n",
      "16.772154372684135     16.9     16.772154372684142\n",
      "26.702559982812602     26.0     26.702559982812602\n",
      "26.27685670399636     26.0     26.27685670399636\n",
      "12.75991440814909     14.0     12.75991440814909\n",
      "24.381231291037025     26.0     24.381231291037025\n",
      "30.440881390747073     36.0     30.440881390747073\n",
      "31.670699758282026     43.1     31.670699758282026\n",
      "28.396474154217557     26.0     28.396474154217564\n",
      "13.225695125643007     14.0     13.225695125643007\n",
      "25.854807904914388     27.0     25.854807904914388\n",
      "15.049704579943501     18.0     15.049704579943501\n",
      "13.923844281786142     15.0     13.923844281786145\n",
      "26.66798925266292     23.5     26.667989252662913\n",
      "29.0450436013033     29.0     29.0450436013033\n",
      "36.06818263124907     39.1     36.06818263124907\n",
      "20.27140650035077     20.0     20.27140650035077\n",
      "27.50441052113071     21.5     27.50441052113071\n",
      "28.313339268415362     29.0     28.313339268415355\n",
      "24.539809648929868     25.0     24.539809648929868\n",
      "30.91728678923038     31.5     30.91728678923039\n",
      "20.86237200262012     18.5     20.86237200262012\n",
      "26.56707927379089     27.0     26.56707927379089\n",
      "27.740784875451368     24.5     27.740784875451368\n",
      "19.896322506750536     17.6     19.896322506750536\n",
      "26.511656330057974     28.0     26.511656330057974\n",
      "28.17572551313549     18.0     28.175725513135475\n",
      "33.48006786730374     40.8     33.480067867303745\n",
      "17.58670110609927     18.0     17.586701106099262\n",
      "26.897304804008513     28.1     26.897304804008513\n",
      "30.839847543422763     37.3     30.839847543422756\n",
      "26.878194052323778     29.0     26.878194052323778\n",
      "30.569309243513835     35.7     30.569309243513835\n",
      "32.5184024212102     32.4     32.5184024212102\n",
      "12.104634288043862     14.0     12.104634288043862\n",
      "13.025958613509498     14.0     13.025958613509502\n",
      "27.981664291515827     31.0     27.981664291515827\n",
      "19.177307580597883     16.5     19.177307580597876\n",
      "22.083005851691325     23.9     22.08300585169132\n"
     ]
    }
   ],
   "source": [
    "predicted = reg.predict(X_test)\n",
    "theta = reg.coef_\n",
    "c = reg.intercept_\n",
    "Xt = np.array(X_test)\n",
    "Yt = np.array(Y_test)\n",
    "print('Predicted','           ','Y_test','   ','Predicted_using_intercept and theta')\n",
    "for i in range(118):\n",
    "    print(predicted[i],'   ',Yt[i],'   ',np.dot(theta,Xt[i])+c)"
   ]
  },
  {
   "cell_type": "markdown",
   "metadata": {},
   "source": [
    "#### Predicting the cost of the Model"
   ]
  },
  {
   "cell_type": "code",
   "execution_count": 74,
   "metadata": {},
   "outputs": [],
   "source": [
    "from sklearn.metrics import mean_squared_error\n"
   ]
  },
  {
   "cell_type": "code",
   "execution_count": 75,
   "metadata": {},
   "outputs": [
    {
     "name": "stdout",
     "output_type": "stream",
     "text": [
      "12.72386445006859\n"
     ]
    }
   ],
   "source": [
    "Yt# True Y\n",
    "predicted# predicted \n",
    "cost = mean_squared_error(Yt,predicted)\n",
    "print(cost)"
   ]
  },
  {
   "cell_type": "markdown",
   "metadata": {},
   "source": [
    "#### Our own implementation for getting cost"
   ]
  },
  {
   "cell_type": "code",
   "execution_count": 76,
   "metadata": {},
   "outputs": [
    {
     "name": "stdout",
     "output_type": "stream",
     "text": [
      "12.72386445006858\n"
     ]
    }
   ],
   "source": [
    "j = 0\n",
    "for i in range(len(Yt)):\n",
    "    j+= (predicted[i]-Yt[i])**2\n",
    "    \n",
    "print(j/len(Yt))"
   ]
  },
  {
   "cell_type": "markdown",
   "metadata": {},
   "source": [
    "## This marks the end to our project \n",
    "##### We predicted and Verified the Values\n",
    "##### We verified the cost funtion\n",
    "##### Sklearn also gives us the slope and intercept of our line; thus  moreover we get optimized theta;"
   ]
  }
 ],
 "metadata": {
  "kernelspec": {
   "display_name": "Python 3",
   "language": "python",
   "name": "python3"
  },
  "language_info": {
   "codemirror_mode": {
    "name": "ipython",
    "version": 3
   },
   "file_extension": ".py",
   "mimetype": "text/x-python",
   "name": "python",
   "nbconvert_exporter": "python",
   "pygments_lexer": "ipython3",
   "version": "3.8.2"
  }
 },
 "nbformat": 4,
 "nbformat_minor": 4
}
