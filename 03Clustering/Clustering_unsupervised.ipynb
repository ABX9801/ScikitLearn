{
 "cells": [
  {
   "cell_type": "markdown",
   "metadata": {},
   "source": [
    "# CLUSTERING\n",
    "#### We have a sample dataset. We will first plot the data using maplotlib and then we will use clustering algorithms provided by scikit learn to seperate the data into clusters."
   ]
  },
  {
   "cell_type": "markdown",
   "metadata": {},
   "source": [
    "#### Getting the data"
   ]
  },
  {
   "cell_type": "code",
   "execution_count": 24,
   "metadata": {},
   "outputs": [],
   "source": [
    "import pandas as pd"
   ]
  },
  {
   "cell_type": "code",
   "execution_count": 25,
   "metadata": {},
   "outputs": [
    {
     "name": "stdout",
     "output_type": "stream",
     "text": [
      "          0         1\n",
      "0  0.896765  1.143127\n",
      "1  0.973851  0.929172\n",
      "2 -1.839089  0.348506\n",
      "3 -1.045098  0.072468\n",
      "4  0.820274 -0.710225\n"
     ]
    }
   ],
   "source": [
    "data = pd.read_csv('sampledata.csv')\n",
    "print(data.head())"
   ]
  },
  {
   "cell_type": "markdown",
   "metadata": {},
   "source": [
    "#### Visualising the data"
   ]
  },
  {
   "cell_type": "code",
   "execution_count": 26,
   "metadata": {},
   "outputs": [],
   "source": [
    "import matplotlib.pyplot as plt\n",
    "from matplotlib import style\n",
    "style.use('ggplot')"
   ]
  },
  {
   "cell_type": "code",
   "execution_count": 27,
   "metadata": {},
   "outputs": [],
   "source": [
    "import numpy as np"
   ]
  },
  {
   "cell_type": "code",
   "execution_count": 28,
   "metadata": {},
   "outputs": [
    {
     "name": "stdout",
     "output_type": "stream",
     "text": [
      "[[ 0.89676469  1.14312679]\n",
      " [ 0.97385117  0.92917238]\n",
      " [-1.83908852  0.34850623]\n",
      " [-1.04509772  0.07246805]\n",
      " [ 0.82027371 -0.7102251 ]]\n"
     ]
    }
   ],
   "source": [
    "X = np.array(data)\n",
    "print(X[:5])"
   ]
  },
  {
   "cell_type": "code",
   "execution_count": 29,
   "metadata": {},
   "outputs": [
    {
     "data": {
      "image/png": "[encoded data removed]",
      "text/plain": [
       "<Figure size 432x288 with 1 Axes>"
      ]
     },
     "metadata": {},
     "output_type": "display_data"
    }
   ],
   "source": [
    "for i in range(len(data)):\n",
    "    plt.scatter(X[i][0],X[i][1],color='g')\n",
    "plt.show()"
   ]
  },
  {
   "cell_type": "markdown",
   "metadata": {},
   "source": [
    "#### Thus we see that the data can actually be divided into 3 clusters. This is just the observation of eye."
   ]
  },
  {
   "cell_type": "markdown",
   "metadata": {},
   "source": [
    "## K MEANS "
   ]
  },
  {
   "cell_type": "code",
   "execution_count": 30,
   "metadata": {},
   "outputs": [],
   "source": [
    "from sklearn.cluster import KMeans"
   ]
  },
  {
   "cell_type": "markdown",
   "metadata": {},
   "source": [
    "##### Training data"
   ]
  },
  {
   "cell_type": "code",
   "execution_count": 31,
   "metadata": {},
   "outputs": [
    {
     "data": {
      "text/plain": [
       "KMeans(algorithm='auto', copy_x=True, init='k-means++', max_iter=300,\n",
       "       n_clusters=2, n_init=10, n_jobs=None, precompute_distances='auto',\n",
       "       random_state=None, tol=0.0001, verbose=0)"
      ]
     },
     "execution_count": 31,
     "metadata": {},
     "output_type": "execute_result"
    }
   ],
   "source": [
    "clf_1 = KMeans(n_clusters=2)\n",
    "clf_1.fit(X)"
   ]
  },
  {
   "cell_type": "markdown",
   "metadata": {},
   "source": [
    "#### Getting the Labels"
   ]
  },
  {
   "cell_type": "code",
   "execution_count": 32,
   "metadata": {},
   "outputs": [
    {
     "name": "stdout",
     "output_type": "stream",
     "text": [
      "[0 0 1 1 1 1 0 1 1 1 1 1 1 1 0 0 1 0 0 1 0 0 1 0 1 1 1 0 0 0 1 1 1 1 1 0 1\n",
      " 1 1 1 0 1 1 1 1 1 1 0 1 1 0 0 1 0 1 0 1 0 1 1 1 1 1 1 1 1 1 1 1 1 0 0 0 1\n",
      " 1 1 1 1 0 1 0 1 0 1 0 1 0 1 1 1 0 0 1 1 0 0 0 1 1 1]\n"
     ]
    }
   ],
   "source": [
    "Y = clf_1.labels_\n",
    "print(Y)"
   ]
  },
  {
   "cell_type": "markdown",
   "metadata": {},
   "source": [
    "#### Geting the cluster Centroids"
   ]
  },
  {
   "cell_type": "code",
   "execution_count": 33,
   "metadata": {},
   "outputs": [
    {
     "name": "stdout",
     "output_type": "stream",
     "text": [
      "[[ 1.03626228  1.01335552]\n",
      " [-0.70039554 -0.43185185]]\n"
     ]
    }
   ],
   "source": [
    "G1 = clf_1.cluster_centers_\n",
    "print(G1)"
   ]
  },
  {
   "cell_type": "markdown",
   "metadata": {},
   "source": [
    "#### Visualization"
   ]
  },
  {
   "cell_type": "code",
   "execution_count": 34,
   "metadata": {},
   "outputs": [
    {
     "data": {
      "image/png": "[encoded data removed]",
      "text/plain": [
       "<Figure size 432x288 with 1 Axes>"
      ]
     },
     "metadata": {},
     "output_type": "display_data"
    }
   ],
   "source": [
    "for i in range(len(data)):\n",
    "    if(Y[i] == 1):\n",
    "        c = 'b'\n",
    "    else:\n",
    "        c = 'r'\n",
    "    plt.scatter(X[i][0],X[i][1],color=c)\n",
    "\n",
    "for i in range(2):\n",
    "    plt.scatter(G1[i][0],G1[i][1],color='k',marker='x')\n",
    "    \n",
    "plt.show()"
   ]
  },
  {
   "cell_type": "markdown",
   "metadata": {},
   "source": [
    "### We can clearly see that it is not the optimum clustering; so now we will use KMeans again with K=3"
   ]
  },
  {
   "cell_type": "markdown",
   "metadata": {},
   "source": [
    "#### Training Data"
   ]
  },
  {
   "cell_type": "code",
   "execution_count": 35,
   "metadata": {},
   "outputs": [
    {
     "data": {
      "text/plain": [
       "KMeans(algorithm='auto', copy_x=True, init='k-means++', max_iter=300,\n",
       "       n_clusters=3, n_init=10, n_jobs=None, precompute_distances='auto',\n",
       "       random_state=None, tol=0.0001, verbose=0)"
      ]
     },
     "execution_count": 35,
     "metadata": {},
     "output_type": "execute_result"
    }
   ],
   "source": [
    "clf_2 = KMeans(n_clusters=3)\n",
    "clf_2.fit(X)"
   ]
  },
  {
   "cell_type": "markdown",
   "metadata": {},
   "source": [
    "#### Getting the Labels "
   ]
  },
  {
   "cell_type": "code",
   "execution_count": 36,
   "metadata": {},
   "outputs": [
    {
     "name": "stdout",
     "output_type": "stream",
     "text": [
      "[1 1 2 2 0 0 1 0 0 2 0 0 2 0 1 1 0 1 1 0 1 1 2 1 2 0 2 1 1 1 2 0 0 2 2 1 2\n",
      " 2 2 2 1 0 2 0 2 2 0 1 2 2 1 1 0 1 0 1 2 1 2 2 2 0 0 0 2 2 0 2 0 2 1 1 1 0\n",
      " 2 0 0 0 1 0 1 0 1 0 1 2 1 0 2 0 1 1 2 2 1 1 1 2 0 2]\n"
     ]
    }
   ],
   "source": [
    "Y1 = clf_2.labels_\n",
    "print(Y1)"
   ]
  },
  {
   "cell_type": "markdown",
   "metadata": {},
   "source": [
    "#### Getting the centroids"
   ]
  },
  {
   "cell_type": "code",
   "execution_count": 38,
   "metadata": {},
   "outputs": [
    {
     "name": "stdout",
     "output_type": "stream",
     "text": [
      "[[ 0.17135014 -0.73150387]\n",
      " [ 1.03626228  1.01335552]\n",
      " [-1.52086207 -0.14982642]]\n"
     ]
    }
   ],
   "source": [
    "G2 = clf_2.cluster_centers_\n",
    "print(G2)"
   ]
  },
  {
   "cell_type": "markdown",
   "metadata": {},
   "source": [
    "#### Visualization"
   ]
  },
  {
   "cell_type": "code",
   "execution_count": 53,
   "metadata": {},
   "outputs": [
    {
     "data": {
      "image/png": "[encoded data removed]",
      "text/plain": [
       "<Figure size 432x288 with 1 Axes>"
      ]
     },
     "metadata": {},
     "output_type": "display_data"
    }
   ],
   "source": [
    "for i in range(len(data)):\n",
    "    if(Y1[i]==0):\n",
    "        c='r'\n",
    "    elif(Y1[i]==1):\n",
    "        c='y'\n",
    "    elif(Y1[i]==2):\n",
    "        c='g'\n",
    "    plt.scatter(X[i][0],X[i][1],color=c)\n",
    "\n",
    "for i in range(len(G2)):\n",
    "    plt.scatter(G2[i][0],G2[i][1],color='k',marker='x')\n",
    "\n",
    "plt.show()"
   ]
  },
  {
   "cell_type": "markdown",
   "metadata": {},
   "source": [
    "### I Personaly Don't Think that It's Good for us to decide the number of Clusters (Until and Unless Specified). It  Would be great if our algorithm classifies our data into clusters on their own. \n",
    "#### NOTE : The default number of clusters for KMeans in Scikit Learn is 8"
   ]
  },
  {
   "cell_type": "markdown",
   "metadata": {},
   "source": [
    "## MEAN SHIFT"
   ]
  },
  {
   "cell_type": "code",
   "execution_count": 54,
   "metadata": {},
   "outputs": [],
   "source": [
    "from sklearn.cluster import MeanShift"
   ]
  },
  {
   "cell_type": "markdown",
   "metadata": {},
   "source": [
    "#### Training Data"
   ]
  },
  {
   "cell_type": "code",
   "execution_count": 55,
   "metadata": {},
   "outputs": [
    {
     "data": {
      "text/plain": [
       "MeanShift(bandwidth=None, bin_seeding=False, cluster_all=True, max_iter=300,\n",
       "          min_bin_freq=1, n_jobs=None, seeds=None)"
      ]
     },
     "execution_count": 55,
     "metadata": {},
     "output_type": "execute_result"
    }
   ],
   "source": [
    "clf_3 = MeanShift()\n",
    "clf_3.fit(X)"
   ]
  },
  {
   "cell_type": "markdown",
   "metadata": {},
   "source": [
    "#### Getting Labels"
   ]
  },
  {
   "cell_type": "code",
   "execution_count": 58,
   "metadata": {},
   "outputs": [
    {
     "name": "stdout",
     "output_type": "stream",
     "text": [
      "[1 1 0 0 2 2 1 2 2 0 2 2 0 2 1 1 2 1 1 2 1 1 0 1 0 2 0 1 1 1 0 2 2 0 0 1 0\n",
      " 0 0 0 1 2 0 2 0 0 2 1 0 0 1 1 2 1 2 1 0 1 0 0 0 2 2 2 0 0 2 0 2 0 1 1 1 2\n",
      " 0 2 2 2 1 2 1 2 1 2 1 0 1 2 0 2 1 1 0 0 1 1 1 0 2 0]\n"
     ]
    }
   ],
   "source": [
    "Y2 = clf_3.labels_\n",
    "print(Y2)"
   ]
  },
  {
   "cell_type": "markdown",
   "metadata": {},
   "source": [
    "###### Above we see that we did not need to specify the number of clusters we wanted. \n",
    "\n",
    "#### Getting Centroids"
   ]
  },
  {
   "cell_type": "code",
   "execution_count": 59,
   "metadata": {},
   "outputs": [
    {
     "name": "stdout",
     "output_type": "stream",
     "text": [
      "[[-1.49194779 -0.14861035]\n",
      " [ 1.08817183  0.99856957]\n",
      " [ 0.19665497 -0.7253599 ]]\n"
     ]
    }
   ],
   "source": [
    "G3 = clf_3.cluster_centers_\n",
    "print(G3)"
   ]
  },
  {
   "cell_type": "markdown",
   "metadata": {},
   "source": [
    "#### Visualizing"
   ]
  },
  {
   "cell_type": "code",
   "execution_count": 60,
   "metadata": {},
   "outputs": [
    {
     "data": {
      "image/png": "[encoded data removed]",
      "text/plain": [
       "<Figure size 432x288 with 1 Axes>"
      ]
     },
     "metadata": {},
     "output_type": "display_data"
    }
   ],
   "source": [
    "for i in range(len(data)):\n",
    "    if(Y2[i]==0):\n",
    "        c='r'\n",
    "    elif(Y2[i]==1):\n",
    "        c='y'\n",
    "    elif(Y2[i]==2):\n",
    "        c='g'\n",
    "    plt.scatter(X[i][0],X[i][1],color=c)\n",
    "\n",
    "for i in range(len(G3)):\n",
    "    plt.scatter(G3[i][0],G3[i][1],color='k',marker='x')\n",
    "\n",
    "plt.show()"
   ]
  },
  {
   "cell_type": "markdown",
   "metadata": {},
   "source": [
    "#### We can say that MeanShift is an Excellent Algorithm. We did not need to specify the number of clusters. We also did not need to specify the bandwidth(Radius for MeanShift) SkLearn does that for us too!! However we can change the bandwidth according to ourselves"
   ]
  },
  {
   "cell_type": "markdown",
   "metadata": {},
   "source": [
    "## HIERARCHIAL CLUSTERING(AGGLOMERATIVE)"
   ]
  },
  {
   "cell_type": "code",
   "execution_count": 61,
   "metadata": {},
   "outputs": [],
   "source": [
    "from sklearn.cluster import AgglomerativeClustering"
   ]
  },
  {
   "cell_type": "markdown",
   "metadata": {},
   "source": [
    "#### Training Data\n",
    "##### NOTE: THE DEFAULT NO. OF CLUSTERS IS 2 For Agglomerative Clustering"
   ]
  },
  {
   "cell_type": "code",
   "execution_count": 66,
   "metadata": {},
   "outputs": [
    {
     "data": {
      "text/plain": [
       "AgglomerativeClustering(affinity='euclidean', compute_full_tree='auto',\n",
       "                        connectivity=None, distance_threshold=None,\n",
       "                        linkage='ward', memory=None, n_clusters=3)"
      ]
     },
     "execution_count": 66,
     "metadata": {},
     "output_type": "execute_result"
    }
   ],
   "source": [
    "clf_4 = AgglomerativeClustering(n_clusters=3)\n",
    "clf_4.fit(X)"
   ]
  },
  {
   "cell_type": "markdown",
   "metadata": {},
   "source": [
    "#### Getting Labels"
   ]
  },
  {
   "cell_type": "code",
   "execution_count": 67,
   "metadata": {},
   "outputs": [
    {
     "name": "stdout",
     "output_type": "stream",
     "text": [
      "[1 1 0 0 2 2 1 2 2 0 2 2 0 2 1 1 2 1 1 2 1 1 0 1 0 2 0 1 1 1 0 2 2 0 0 1 0\n",
      " 0 0 0 1 2 0 2 0 0 2 1 0 0 1 1 2 1 2 1 0 1 0 0 0 2 2 2 0 0 0 0 2 0 1 1 1 2\n",
      " 0 2 2 2 1 2 1 2 1 2 1 0 1 2 0 2 1 1 0 0 1 1 1 0 2 0]\n"
     ]
    }
   ],
   "source": [
    "Y3 = clf_4.labels_\n",
    "print(Y3)"
   ]
  },
  {
   "cell_type": "markdown",
   "metadata": {},
   "source": [
    "#### Note that There are No Centroids for Agglomerative Clustering. This is because its a bottom up process; where at first it has n clusters for n data points and at last it has 1 Cluster for n data points;\n",
    "\n",
    "#### REMEMBER THE TREE STRUCTURE"
   ]
  },
  {
   "cell_type": "markdown",
   "metadata": {},
   "source": [
    "#### VISUALIZATION"
   ]
  },
  {
   "cell_type": "code",
   "execution_count": 70,
   "metadata": {},
   "outputs": [
    {
     "data": {
      "image/png": "[encoded data removed]",
      "text/plain": [
       "<Figure size 432x288 with 1 Axes>"
      ]
     },
     "metadata": {},
     "output_type": "display_data"
    }
   ],
   "source": [
    "for i in range(len(data)):\n",
    "    if(Y3[i]==0):\n",
    "        c='r'\n",
    "    elif(Y3[i]==1):\n",
    "        c='y'\n",
    "    elif(Y3[i]==2):\n",
    "        c='g'\n",
    "    plt.scatter(X[i][0],X[i][1],color=c)\n",
    "plt.show()"
   ]
  },
  {
   "cell_type": "markdown",
   "metadata": {},
   "source": [
    "## DBSCAN"
   ]
  },
  {
   "cell_type": "code",
   "execution_count": 71,
   "metadata": {},
   "outputs": [],
   "source": [
    "from sklearn.cluster import DBSCAN"
   ]
  },
  {
   "cell_type": "markdown",
   "metadata": {},
   "source": [
    "#### Training Data"
   ]
  },
  {
   "cell_type": "code",
   "execution_count": 73,
   "metadata": {},
   "outputs": [
    {
     "data": {
      "text/plain": [
       "DBSCAN(algorithm='auto', eps=0.5, leaf_size=30, metric='euclidean',\n",
       "       metric_params=None, min_samples=5, n_jobs=None, p=None)"
      ]
     },
     "execution_count": 73,
     "metadata": {},
     "output_type": "execute_result"
    }
   ],
   "source": [
    "clf_5 = DBSCAN()\n",
    "clf_5.fit(X)"
   ]
  },
  {
   "cell_type": "markdown",
   "metadata": {},
   "source": [
    "##### above we can see; eps =0.5 i.e the max distance b/w 2 samples so that they are considered as neighbors;  min_samples=5, i.e the number of samples in a neighborhood for a point to be considered as core point\n",
    "\n",
    "#### Getting Labels"
   ]
  },
  {
   "cell_type": "code",
   "execution_count": 74,
   "metadata": {},
   "outputs": [
    {
     "name": "stdout",
     "output_type": "stream",
     "text": [
      "[ 0  0  1  1  2  2  0  2  2  1  2  2  1  2 -1  0  2  0  0  2  0  0  1  0\n",
      "  1  2  1  0  0  0  1  2  2  1  1  0  1  1  1  1  0  2  1  2  1  1  2  0\n",
      "  1  1  0  0  2  0  2  0  1  0  1  1  1  2  2  2  1  1  2  1  2  1  0  0\n",
      "  0  2  1  2  2  2  0  2  0  2  0  2  0  1  0  2  1  2  0  0 -1  1  0  0\n",
      "  0  1  2  1]\n"
     ]
    }
   ],
   "source": [
    "Y4 = clf_5.labels_\n",
    "print(Y4)"
   ]
  },
  {
   "cell_type": "markdown",
   "metadata": {},
   "source": [
    "#### No cluster points here too; we just have core points, edge points and outliers\n",
    "\n",
    "#### VISUALIZATION"
   ]
  },
  {
   "cell_type": "code",
   "execution_count": 75,
   "metadata": {},
   "outputs": [
    {
     "data": {
      "image/png": "[encoded data removed]",
      "text/plain": [
       "<Figure size 432x288 with 1 Axes>"
      ]
     },
     "metadata": {},
     "output_type": "display_data"
    }
   ],
   "source": [
    "for i in range(len(data)):\n",
    "    if(Y4[i]==0):\n",
    "        c='r'\n",
    "    elif(Y4[i]==1):\n",
    "        c='y'\n",
    "    elif(Y4[i]==2):\n",
    "        c='g'\n",
    "    plt.scatter(X[i][0],X[i][1],color=c)\n",
    "plt.show()"
   ]
  },
  {
   "cell_type": "markdown",
   "metadata": {},
   "source": [
    "### We can Clearly see Discripencies here; So I preferably don't use this algorithm. Even I don't  know a lot about this algorithm; so I don't Consider Using it"
   ]
  },
  {
   "cell_type": "markdown",
   "metadata": {},
   "source": [
    "# Thus;  We have completed Clustering;\n",
    "\n",
    "## Now we will see when to use which algorithm;\n",
    "\n",
    "### 1) KMeans - When we are specified the number of clusters we have to divide the data into.\n",
    "### 2) MeanShift -  We don't know how many clusters we have to divide the data into. So we divide them into optimal number of clusters\n",
    "### 3) Agglomerative - The algorithm already divides the data in many  clusters parallely(We can say not parallely; as We se the tree diagram.) We just have to chose the no. of clusters"
   ]
  }
 ],
 "metadata": {
  "kernelspec": {
   "display_name": "Python 3",
   "language": "python",
   "name": "python3"
  },
  "language_info": {
   "codemirror_mode": {
    "name": "ipython",
    "version": 3
   },
   "file_extension": ".py",
   "mimetype": "text/x-python",
   "name": "python",
   "nbconvert_exporter": "python",
   "pygments_lexer": "ipython3",
   "version": "3.8.2"
  }
 },
 "nbformat": 4,
 "nbformat_minor": 4
}
