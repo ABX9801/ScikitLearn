{
 "cells": [
  {
   "cell_type": "markdown",
   "metadata": {},
   "source": [
    "# CLASSIFICATION\n",
    "\n",
    "##### In this project we will compare various classification algorithms and also plot a bar graph of their accuracy.  The data to be used here is the standard Iris flower dataset. \n",
    "##### Each flower has 4 features - sepal_length,sepal_width,petal_length,petal_width"
   ]
  },
  {
   "cell_type": "code",
   "execution_count": 2,
   "metadata": {},
   "outputs": [
    {
     "name": "stdout",
     "output_type": "stream",
     "text": [
      "   sepal_length  sepal_width  petal_length  petal_width        class\n",
      "0           5.1          3.5           1.4          0.2  Iris-setosa\n",
      "1           4.9          3.0           1.4          0.2  Iris-setosa\n",
      "2           4.7          3.2           1.3          0.2  Iris-setosa\n",
      "3           4.6          3.1           1.5          0.2  Iris-setosa\n",
      "4           5.0          3.6           1.4          0.2  Iris-setosa\n"
     ]
    }
   ],
   "source": [
    "import pandas as pd\n",
    "data = pd.read_csv('iris.data')\n",
    "print(data.head())"
   ]
  },
  {
   "cell_type": "code",
   "execution_count": 3,
   "metadata": {},
   "outputs": [
    {
     "name": "stdout",
     "output_type": "stream",
     "text": [
      "   sepal_length  sepal_width  petal_length  petal_width\n",
      "0           5.1          3.5           1.4          0.2\n",
      "1           4.9          3.0           1.4          0.2\n",
      "2           4.7          3.2           1.3          0.2\n",
      "3           4.6          3.1           1.5          0.2\n",
      "4           5.0          3.6           1.4          0.2\n"
     ]
    }
   ],
   "source": [
    "X = data.drop(['class'],1)\n",
    "print(X.head())"
   ]
  },
  {
   "cell_type": "code",
   "execution_count": 4,
   "metadata": {},
   "outputs": [
    {
     "name": "stdout",
     "output_type": "stream",
     "text": [
      "0    Iris-setosa\n",
      "1    Iris-setosa\n",
      "2    Iris-setosa\n",
      "3    Iris-setosa\n",
      "4    Iris-setosa\n",
      "Name: class, dtype: object\n"
     ]
    }
   ],
   "source": [
    "Y = data['class']\n",
    "print(Y.head())"
   ]
  },
  {
   "cell_type": "markdown",
   "metadata": {},
   "source": [
    "##### Splitint into training and testing data"
   ]
  },
  {
   "cell_type": "code",
   "execution_count": 5,
   "metadata": {},
   "outputs": [],
   "source": [
    "from sklearn.model_selection import train_test_split\n",
    "\n",
    "X_train,X_test,Y_train,Y_test = train_test_split(X,Y,test_size = 0.2)"
   ]
  },
  {
   "cell_type": "markdown",
   "metadata": {},
   "source": [
    "## LOGISTIC REGRESSION"
   ]
  },
  {
   "cell_type": "code",
   "execution_count": 6,
   "metadata": {},
   "outputs": [],
   "source": [
    "from sklearn.linear_model import LogisticRegression"
   ]
  },
  {
   "cell_type": "markdown",
   "metadata": {},
   "source": [
    "###### Training Data"
   ]
  },
  {
   "cell_type": "code",
   "execution_count": 7,
   "metadata": {},
   "outputs": [
    {
     "data": {
      "text/plain": [
       "LogisticRegression(C=1.0, class_weight=None, dual=False, fit_intercept=True,\n",
       "                   intercept_scaling=1, l1_ratio=None, max_iter=100,\n",
       "                   multi_class='auto', n_jobs=None, penalty='l2',\n",
       "                   random_state=None, solver='lbfgs', tol=0.0001, verbose=0,\n",
       "                   warm_start=False)"
      ]
     },
     "execution_count": 7,
     "metadata": {},
     "output_type": "execute_result"
    }
   ],
   "source": [
    "clf_1 = LogisticRegression()\n",
    "clf_1.fit(X_train,Y_train)"
   ]
  },
  {
   "cell_type": "markdown",
   "metadata": {},
   "source": [
    "###### Getting Accuracy of Classifier in Test Data"
   ]
  },
  {
   "cell_type": "code",
   "execution_count": 97,
   "metadata": {},
   "outputs": [
    {
     "data": {
      "text/plain": [
       "0.9"
      ]
     },
     "execution_count": 97,
     "metadata": {},
     "output_type": "execute_result"
    }
   ],
   "source": [
    "clf_1.score(X_test,Y_test)\n"
   ]
  },
  {
   "cell_type": "markdown",
   "metadata": {},
   "source": [
    "###### Getting the Predicted Results"
   ]
  },
  {
   "cell_type": "code",
   "execution_count": 9,
   "metadata": {},
   "outputs": [
    {
     "name": "stdout",
     "output_type": "stream",
     "text": [
      "['Iris-virginica' 'Iris-virginica' 'Iris-versicolor' 'Iris-versicolor'\n",
      " 'Iris-virginica' 'Iris-virginica' 'Iris-setosa' 'Iris-virginica'\n",
      " 'Iris-setosa' 'Iris-versicolor' 'Iris-setosa' 'Iris-versicolor'\n",
      " 'Iris-setosa' 'Iris-versicolor' 'Iris-virginica' 'Iris-virginica'\n",
      " 'Iris-versicolor' 'Iris-setosa' 'Iris-virginica' 'Iris-virginica'\n",
      " 'Iris-versicolor' 'Iris-virginica' 'Iris-virginica' 'Iris-virginica'\n",
      " 'Iris-versicolor' 'Iris-virginica' 'Iris-virginica' 'Iris-setosa'\n",
      " 'Iris-setosa' 'Iris-versicolor']\n"
     ]
    }
   ],
   "source": [
    "import numpy as np\n",
    "Xt = np.array(X_test)\n",
    "predicted= clf_1.predict(Xt)\n",
    "print(predicted)"
   ]
  },
  {
   "cell_type": "markdown",
   "metadata": {},
   "source": [
    "###### Getting the probabilities "
   ]
  },
  {
   "cell_type": "code",
   "execution_count": 10,
   "metadata": {},
   "outputs": [
    {
     "name": "stdout",
     "output_type": "stream",
     "text": [
      "[[1.01710656e-05 3.88949393e-02 9.61094890e-01]\n",
      " [3.16727313e-05 1.85911322e-01 8.14057005e-01]\n",
      " [5.38095605e-03 8.52164253e-01 1.42454791e-01]\n",
      " [7.70428061e-04 6.04919696e-01 3.94309876e-01]\n",
      " [6.73681176e-05 1.12349576e-01 8.87583056e-01]\n",
      " [4.53007937e-04 2.45877852e-01 7.53669140e-01]\n",
      " [9.90596349e-01 9.40360009e-03 5.08357514e-08]\n",
      " [5.01426003e-04 3.30626166e-01 6.68872408e-01]\n",
      " [9.82114128e-01 1.78856787e-02 1.93121340e-07]\n",
      " [3.01664324e-03 8.18496413e-01 1.78486944e-01]\n",
      " [9.84260659e-01 1.57392969e-02 4.41116931e-08]\n",
      " [6.08094923e-04 6.84844446e-01 3.14547459e-01]\n",
      " [9.60037978e-01 3.99617584e-02 2.63272962e-07]\n",
      " [1.45371007e-02 9.40433256e-01 4.50296435e-02]\n",
      " [1.49946675e-04 2.37657315e-01 7.62192738e-01]\n",
      " [1.05073023e-07 9.89387756e-03 9.90106017e-01]\n",
      " [1.69392101e-02 9.67494532e-01 1.55662582e-02]\n",
      " [9.86481712e-01 1.35182205e-02 6.71623606e-08]\n",
      " [9.93568736e-06 7.29670441e-02 9.27023020e-01]\n",
      " [2.59430858e-05 5.94606778e-02 9.40513379e-01]\n",
      " [1.49768304e-03 7.95304831e-01 2.03197486e-01]\n",
      " [1.14526597e-03 3.60938536e-01 6.37916198e-01]\n",
      " [5.08350644e-04 3.24299992e-01 6.75191657e-01]\n",
      " [1.41472341e-04 4.17010053e-01 5.82848474e-01]\n",
      " [6.96652408e-03 7.75658784e-01 2.17374692e-01]\n",
      " [1.37508329e-08 2.77698282e-03 9.97223003e-01]\n",
      " [1.10630959e-04 2.01478944e-01 7.98410425e-01]\n",
      " [9.84404167e-01 1.55957045e-02 1.28246271e-07]\n",
      " [9.75512994e-01 2.44868680e-02 1.38327100e-07]\n",
      " [8.69797376e-03 9.31849423e-01 5.94526033e-02]]\n"
     ]
    }
   ],
   "source": [
    "predicted_probability = clf_1.predict_proba(Xt)\n",
    "print(predicted_probability)"
   ]
  },
  {
   "cell_type": "markdown",
   "metadata": {},
   "source": [
    "###### Getting the Logarithms of the probabilities"
   ]
  },
  {
   "cell_type": "code",
   "execution_count": 11,
   "metadata": {},
   "outputs": [
    {
     "name": "stdout",
     "output_type": "stream",
     "text": [
      "[[-1.14959636e+01 -3.24689113e+00 -3.96821344e-02]\n",
      " [-1.03600545e+01 -1.68248548e+00 -2.05724884e-01]\n",
      " [-5.22488922e+00 -1.59975985e-01 -1.94873059e+00]\n",
      " [-7.16856427e+00 -5.02659563e-01 -9.30618193e-01]\n",
      " [-9.60533868e+00 -2.18614006e+00 -1.19253178e-01]\n",
      " [-7.69960091e+00 -1.40292040e+00 -2.82801814e-01]\n",
      " [-9.44814441e-03 -4.66666267e+00 -1.67946660e+01]\n",
      " [-7.59805451e+00 -1.10676695e+00 -4.02161958e-01]\n",
      " [-1.80477572e-02 -4.02375496e+00 -1.54599471e+01]\n",
      " [-5.80361057e+00 -2.00286265e-01 -1.72323982e+00]\n",
      " [-1.58645197e-02 -4.15159470e+00 -1.69365409e+01]\n",
      " [-7.40517957e+00 -3.78563553e-01 -1.15662031e+00]\n",
      " [-4.07824346e-02 -3.21983232e+00 -1.51500745e+01]\n",
      " [-4.23105123e+00 -6.14145995e-02 -3.10043426e+00]\n",
      " [-8.80523083e+00 -1.43692549e+00 -2.71555818e-01]\n",
      " [-1.60686103e+01 -4.61583914e+00 -9.94325333e-03]\n",
      " [-4.07812422e+00 -3.30455061e-02 -4.16264964e+00]\n",
      " [-1.36104916e-02 -4.30371684e+00 -1.65161529e+01]\n",
      " [-1.15193775e+01 -2.61774739e+00 -7.57768807e-02]\n",
      " [-1.05596054e+01 -2.82244006e+00 -6.13294048e-02]\n",
      " [-6.50383600e+00 -2.29029803e-01 -1.59357693e+00]\n",
      " [-6.77211838e+00 -1.01904760e+00 -4.49548355e-01]\n",
      " [-7.58433911e+00 -1.12608629e+00 -3.92758692e-01]\n",
      " [-8.86340633e+00 -8.74644949e-01 -5.39828033e-01]\n",
      " [-4.96663888e+00 -2.54042567e-01 -1.52613272e+00]\n",
      " [-1.81021664e+01 -5.88639026e+00 -2.78085958e-03]\n",
      " [-9.10931059e+00 -1.60207040e+00 -2.25132497e-01]\n",
      " [-1.57187272e-02 -4.16075976e+00 -1.58693134e+01]\n",
      " [-2.47917990e-02 -3.70961830e+00 -1.57936447e+01]\n",
      " [-4.74466518e+00 -7.05840407e-02 -2.82257587e+00]]\n"
     ]
    }
   ],
   "source": [
    "predicted_log_probability = clf_1.predict_log_proba(Xt)\n",
    "print(predicted_log_probability)"
   ]
  },
  {
   "cell_type": "markdown",
   "metadata": {},
   "source": [
    "###### Note that the probabilities are in form of;   [ P(iris-setosa) ,P(iris-versicolor),P(iris-virginica)]  and the flower type with highest probability gives us the predicted flower type\n",
    "###### Below l is the list of confidences of flower types as [ [confidence(iris-setosa),confidence(iris-versicolor),confidence(iris-virginica)], [...]..]        So we have printed the confidence array for each test data along with their prediction"
   ]
  },
  {
   "cell_type": "code",
   "execution_count": 12,
   "metadata": {},
   "outputs": [
    {
     "name": "stdout",
     "output_type": "stream",
     "text": [
      "[-6.5684513   1.68062115  4.88783015] ---- Iris-virginica\n",
      "[-6.27729952  2.40026946  3.87703006] ---- Iris-virginica\n",
      "[-2.78035729  2.28455594  0.49580134] ---- Iris-versicolor\n",
      "[-4.3012836   2.36462111  1.93666248] ---- Iris-versicolor\n",
      "[-5.63509471  1.78410392  3.85099079] ---- Iris-virginica\n",
      "[-4.57115987  1.72552064  2.84563923] ---- Iris-virginica\n",
      "[ 7.14747745  2.49026292 -9.63774037] ---- Iris-setosa\n",
      "[-4.56239337  1.92889419  2.63349918] ---- Iris-virginica\n",
      "[ 6.48253553  2.47682833 -8.95936386] ---- Iris-setosa\n",
      "[-3.22789835  2.37542596  0.8524724 ] ---- Iris-versicolor\n",
      "[ 7.0188022   2.88307202 -9.90187422] ---- Iris-setosa\n",
      "[-4.42505842  2.60155759  1.82350083] ---- Iris-versicolor\n",
      "[ 6.09611397  2.91706409 -9.01317806] ---- Iris-setosa\n",
      "[-1.7667512   2.40288543 -0.63613423] ---- Iris-versicolor\n",
      "[-5.30066011  2.06764522  3.2330149 ] ---- Iris-virginica\n",
      "[-9.17047938  2.28229175  6.88818764] ---- Iris-virginica\n",
      "[-1.32018443  2.72489428 -1.40470985] ---- Iris-versicolor\n",
      "[ 6.9308829   2.64077656 -9.57165946] ---- Iris-setosa\n",
      "[-6.78174358  2.11988653  4.66185704] ---- Iris-virginica\n",
      "[-6.07848046  1.6586849   4.41979556] ---- Iris-virginica\n",
      "[-3.72835509  2.54645111  1.18190398] ---- Iris-versicolor\n",
      "[-4.0252136   1.72785718  2.29735642] ---- Iris-virginica\n",
      "[-4.54994441  1.90830841  2.641636  ] ---- Iris-virginica\n",
      "[-5.43744656  2.55131482  2.88613174] ---- Iris-virginica\n",
      "[-2.71770082  1.99489549  0.72280533] ---- Iris-versicolor\n",
      "[-10.10505392   2.11072226   7.99433166] ---- Iris-virginica\n",
      "[-5.46380609  2.0434341   3.420372  ] ---- Iris-virginica\n",
      "[ 6.66621191  2.52117088 -9.18738279] ---- Iris-setosa\n",
      "[ 6.48455979  2.79973329 -9.28429308] ---- Iris-setosa\n",
      "[-2.19872349  2.47535766 -0.27663417] ---- Iris-versicolor\n"
     ]
    }
   ],
   "source": [
    "l= clf_1.decision_function(Xt)\n",
    "for i in range(len(Xt)):\n",
    "    print(l[i],'----',predicted[i])"
   ]
  },
  {
   "cell_type": "markdown",
   "metadata": {},
   "source": [
    "## K-NEAREST NEIGHBORS"
   ]
  },
  {
   "cell_type": "code",
   "execution_count": 13,
   "metadata": {},
   "outputs": [],
   "source": [
    "from sklearn.neighbors import KNeighborsClassifier"
   ]
  },
  {
   "cell_type": "markdown",
   "metadata": {},
   "source": [
    "######  training data"
   ]
  },
  {
   "cell_type": "code",
   "execution_count": 14,
   "metadata": {},
   "outputs": [
    {
     "data": {
      "text/plain": [
       "KNeighborsClassifier(algorithm='auto', leaf_size=30, metric='minkowski',\n",
       "                     metric_params=None, n_jobs=None, n_neighbors=7, p=2,\n",
       "                     weights='uniform')"
      ]
     },
     "execution_count": 14,
     "metadata": {},
     "output_type": "execute_result"
    }
   ],
   "source": [
    "clf_2 = KNeighborsClassifier(n_neighbors = 7) # for n classes I choose K as 2*n+1\n",
    "clf_2.fit(X_train,Y_train)"
   ]
  },
  {
   "cell_type": "markdown",
   "metadata": {},
   "source": [
    "###### Getting Accuracy of classifier in test data"
   ]
  },
  {
   "cell_type": "code",
   "execution_count": 96,
   "metadata": {},
   "outputs": [
    {
     "data": {
      "text/plain": [
       "0.9"
      ]
     },
     "execution_count": 96,
     "metadata": {},
     "output_type": "execute_result"
    }
   ],
   "source": [
    "clf_2.score(X_test,Y_test)"
   ]
  },
  {
   "cell_type": "markdown",
   "metadata": {},
   "source": [
    "###### Getting the predicted Results"
   ]
  },
  {
   "cell_type": "code",
   "execution_count": 16,
   "metadata": {},
   "outputs": [
    {
     "name": "stdout",
     "output_type": "stream",
     "text": [
      "['Iris-virginica' 'Iris-virginica' 'Iris-versicolor' 'Iris-versicolor'\n",
      " 'Iris-virginica' 'Iris-virginica' 'Iris-setosa' 'Iris-virginica'\n",
      " 'Iris-setosa' 'Iris-versicolor' 'Iris-setosa' 'Iris-versicolor'\n",
      " 'Iris-setosa' 'Iris-versicolor' 'Iris-virginica' 'Iris-virginica'\n",
      " 'Iris-versicolor' 'Iris-setosa' 'Iris-virginica' 'Iris-virginica'\n",
      " 'Iris-versicolor' 'Iris-virginica' 'Iris-virginica' 'Iris-virginica'\n",
      " 'Iris-versicolor' 'Iris-virginica' 'Iris-virginica' 'Iris-setosa'\n",
      " 'Iris-setosa' 'Iris-versicolor']\n"
     ]
    }
   ],
   "source": [
    "predicted_knn = clf_2.predict(Xt)\n",
    "print(predicted_knn)"
   ]
  },
  {
   "cell_type": "markdown",
   "metadata": {},
   "source": [
    "###### Getting the probabilities"
   ]
  },
  {
   "cell_type": "code",
   "execution_count": 17,
   "metadata": {},
   "outputs": [
    {
     "name": "stdout",
     "output_type": "stream",
     "text": [
      "[[0.         0.         1.        ]\n",
      " [0.         0.         1.        ]\n",
      " [0.         1.         0.        ]\n",
      " [0.         0.57142857 0.42857143]\n",
      " [0.         0.         1.        ]\n",
      " [0.         0.14285714 0.85714286]\n",
      " [1.         0.         0.        ]\n",
      " [0.         0.14285714 0.85714286]\n",
      " [1.         0.         0.        ]\n",
      " [0.         0.85714286 0.14285714]\n",
      " [1.         0.         0.        ]\n",
      " [0.         0.57142857 0.42857143]\n",
      " [1.         0.         0.        ]\n",
      " [0.         1.         0.        ]\n",
      " [0.         0.         1.        ]\n",
      " [0.         0.         1.        ]\n",
      " [0.         1.         0.        ]\n",
      " [1.         0.         0.        ]\n",
      " [0.         0.         1.        ]\n",
      " [0.         0.         1.        ]\n",
      " [0.         1.         0.        ]\n",
      " [0.         0.28571429 0.71428571]\n",
      " [0.         0.14285714 0.85714286]\n",
      " [0.         0.28571429 0.71428571]\n",
      " [0.         1.         0.        ]\n",
      " [0.         0.         1.        ]\n",
      " [0.         0.14285714 0.85714286]\n",
      " [1.         0.         0.        ]\n",
      " [1.         0.         0.        ]\n",
      " [0.         1.         0.        ]]\n"
     ]
    }
   ],
   "source": [
    "predicted_knn_probability = clf_2.predict_proba(Xt)\n",
    "print(predicted_knn_probability)"
   ]
  },
  {
   "cell_type": "markdown",
   "metadata": {},
   "source": [
    "###### The percentage of Neighbors of [iris-setosa,iris-versicolor,iris-virginica] respectively and their respective predicted outputs"
   ]
  },
  {
   "cell_type": "code",
   "execution_count": 18,
   "metadata": {},
   "outputs": [
    {
     "name": "stdout",
     "output_type": "stream",
     "text": [
      "[0. 0. 1.] -------- Iris-virginica\n",
      "[0. 0. 1.] -------- Iris-virginica\n",
      "[0. 1. 0.] -------- Iris-versicolor\n",
      "[0.         0.57142857 0.42857143] -------- Iris-versicolor\n",
      "[0. 0. 1.] -------- Iris-virginica\n",
      "[0.         0.14285714 0.85714286] -------- Iris-virginica\n",
      "[1. 0. 0.] -------- Iris-setosa\n",
      "[0.         0.14285714 0.85714286] -------- Iris-virginica\n",
      "[1. 0. 0.] -------- Iris-setosa\n",
      "[0.         0.85714286 0.14285714] -------- Iris-versicolor\n",
      "[1. 0. 0.] -------- Iris-setosa\n",
      "[0.         0.57142857 0.42857143] -------- Iris-versicolor\n",
      "[1. 0. 0.] -------- Iris-setosa\n",
      "[0. 1. 0.] -------- Iris-versicolor\n",
      "[0. 0. 1.] -------- Iris-virginica\n",
      "[0. 0. 1.] -------- Iris-virginica\n",
      "[0. 1. 0.] -------- Iris-versicolor\n",
      "[1. 0. 0.] -------- Iris-setosa\n",
      "[0. 0. 1.] -------- Iris-virginica\n",
      "[0. 0. 1.] -------- Iris-virginica\n",
      "[0. 1. 0.] -------- Iris-versicolor\n",
      "[0.         0.28571429 0.71428571] -------- Iris-virginica\n",
      "[0.         0.14285714 0.85714286] -------- Iris-virginica\n",
      "[0.         0.28571429 0.71428571] -------- Iris-virginica\n",
      "[0. 1. 0.] -------- Iris-versicolor\n",
      "[0. 0. 1.] -------- Iris-virginica\n",
      "[0.         0.14285714 0.85714286] -------- Iris-virginica\n",
      "[1. 0. 0.] -------- Iris-setosa\n",
      "[1. 0. 0.] -------- Iris-setosa\n",
      "[0. 1. 0.] -------- Iris-versicolor\n"
     ]
    }
   ],
   "source": [
    "for i in range(len(Xt)):\n",
    "    print(predicted_knn_probability[i],'--------',predicted_knn[i])"
   ]
  },
  {
   "cell_type": "markdown",
   "metadata": {},
   "source": [
    "## DECISION TREE CLASSIFIER"
   ]
  },
  {
   "cell_type": "code",
   "execution_count": 19,
   "metadata": {},
   "outputs": [],
   "source": [
    "from sklearn import tree"
   ]
  },
  {
   "cell_type": "markdown",
   "metadata": {},
   "source": [
    "###### Training Data"
   ]
  },
  {
   "cell_type": "code",
   "execution_count": 22,
   "metadata": {},
   "outputs": [
    {
     "data": {
      "text/plain": [
       "DecisionTreeClassifier(ccp_alpha=0.0, class_weight=None, criterion='gini',\n",
       "                       max_depth=None, max_features=None, max_leaf_nodes=None,\n",
       "                       min_impurity_decrease=0.0, min_impurity_split=None,\n",
       "                       min_samples_leaf=1, min_samples_split=2,\n",
       "                       min_weight_fraction_leaf=0.0, presort='deprecated',\n",
       "                       random_state=None, splitter='best')"
      ]
     },
     "execution_count": 22,
     "metadata": {},
     "output_type": "execute_result"
    }
   ],
   "source": [
    "clf_3 = tree.DecisionTreeClassifier()\n",
    "clf_3.fit(X_train,Y_train)"
   ]
  },
  {
   "cell_type": "markdown",
   "metadata": {},
   "source": [
    "###### Getting accuracy of classifier in test data"
   ]
  },
  {
   "cell_type": "code",
   "execution_count": 95,
   "metadata": {},
   "outputs": [
    {
     "data": {
      "text/plain": [
       "1.0"
      ]
     },
     "execution_count": 95,
     "metadata": {},
     "output_type": "execute_result"
    }
   ],
   "source": [
    "clf_3.score(X_test,Y_test)"
   ]
  },
  {
   "cell_type": "markdown",
   "metadata": {},
   "source": [
    "###### Getting the predicted Results"
   ]
  },
  {
   "cell_type": "code",
   "execution_count": 25,
   "metadata": {},
   "outputs": [
    {
     "name": "stdout",
     "output_type": "stream",
     "text": [
      "['Iris-virginica' 'Iris-versicolor' 'Iris-versicolor' 'Iris-versicolor'\n",
      " 'Iris-virginica' 'Iris-virginica' 'Iris-setosa' 'Iris-virginica'\n",
      " 'Iris-setosa' 'Iris-versicolor' 'Iris-setosa' 'Iris-versicolor'\n",
      " 'Iris-setosa' 'Iris-versicolor' 'Iris-virginica' 'Iris-virginica'\n",
      " 'Iris-versicolor' 'Iris-setosa' 'Iris-virginica' 'Iris-virginica'\n",
      " 'Iris-versicolor' 'Iris-virginica' 'Iris-virginica' 'Iris-versicolor'\n",
      " 'Iris-versicolor' 'Iris-virginica' 'Iris-virginica' 'Iris-setosa'\n",
      " 'Iris-setosa' 'Iris-versicolor']\n"
     ]
    }
   ],
   "source": [
    "predicted_tree = clf_3.predict(Xt)\n",
    "print(predicted_tree)"
   ]
  },
  {
   "cell_type": "markdown",
   "metadata": {},
   "source": [
    "###### Plotting the Tree"
   ]
  },
  {
   "cell_type": "code",
   "execution_count": 26,
   "metadata": {},
   "outputs": [
    {
     "data": {
      "text/plain": [
       "[Text(200.88000000000002, 190.26, 'X[2] <= 4.85\\ngini = 0.584\\nsamples = 30\\nvalue = [7, 6, 17]'),\n",
       " Text(133.92000000000002, 135.9, 'X[3] <= 0.7\\ngini = 0.561\\nsamples = 14\\nvalue = [7, 6, 1]'),\n",
       " Text(66.96000000000001, 81.53999999999999, 'gini = 0.0\\nsamples = 7\\nvalue = [7, 0, 0]'),\n",
       " Text(200.88000000000002, 81.53999999999999, 'X[1] <= 2.6\\ngini = 0.245\\nsamples = 7\\nvalue = [0, 6, 1]'),\n",
       " Text(133.92000000000002, 27.180000000000007, 'gini = 0.0\\nsamples = 1\\nvalue = [0, 0, 1]'),\n",
       " Text(267.84000000000003, 27.180000000000007, 'gini = 0.0\\nsamples = 6\\nvalue = [0, 6, 0]'),\n",
       " Text(267.84000000000003, 135.9, 'gini = 0.0\\nsamples = 16\\nvalue = [0, 0, 16]')]"
      ]
     },
     "execution_count": 26,
     "metadata": {},
     "output_type": "execute_result"
    },
    {
     "data": {
      "image/png": "[encoded data removed]",
      "text/plain": [
       "<Figure size 432x288 with 1 Axes>"
      ]
     },
     "metadata": {
      "needs_background": "light"
     },
     "output_type": "display_data"
    }
   ],
   "source": [
    "tree.plot_tree(clf_3.fit(X_test,Y_test))"
   ]
  },
  {
   "cell_type": "markdown",
   "metadata": {},
   "source": [
    "## SUPPORT VECTOR MACHINE"
   ]
  },
  {
   "cell_type": "markdown",
   "metadata": {},
   "source": [
    "###### This is one vast topic.  We will also se the power of Kernels here"
   ]
  },
  {
   "cell_type": "code",
   "execution_count": 27,
   "metadata": {},
   "outputs": [],
   "source": [
    "from sklearn import svm"
   ]
  },
  {
   "cell_type": "markdown",
   "metadata": {},
   "source": [
    "###### Training Data"
   ]
  },
  {
   "cell_type": "code",
   "execution_count": 29,
   "metadata": {},
   "outputs": [
    {
     "data": {
      "text/plain": [
       "SVC(C=1.0, break_ties=False, cache_size=200, class_weight=None, coef0=0.0,\n",
       "    decision_function_shape='ovr', degree=3, gamma='scale', kernel='rbf',\n",
       "    max_iter=-1, probability=False, random_state=None, shrinking=True,\n",
       "    tol=0.001, verbose=False)"
      ]
     },
     "execution_count": 29,
     "metadata": {},
     "output_type": "execute_result"
    }
   ],
   "source": [
    "clf_4 = svm.SVC()\n",
    "clf_4.fit(X_train,Y_train)"
   ]
  },
  {
   "cell_type": "markdown",
   "metadata": {},
   "source": [
    "###### Getting Accuracy of Classifier in Test Data"
   ]
  },
  {
   "cell_type": "code",
   "execution_count": 94,
   "metadata": {},
   "outputs": [
    {
     "data": {
      "text/plain": [
       "0.9"
      ]
     },
     "execution_count": 94,
     "metadata": {},
     "output_type": "execute_result"
    }
   ],
   "source": [
    "clf_4.score(X_test,Y_test)\n"
   ]
  },
  {
   "cell_type": "markdown",
   "metadata": {},
   "source": [
    "###### Getting Support Vectors"
   ]
  },
  {
   "cell_type": "code",
   "execution_count": 33,
   "metadata": {},
   "outputs": [
    {
     "data": {
      "text/plain": [
       "array([[5. , 3. , 1.6, 0.2],\n",
       "       [4.5, 2.3, 1.3, 0.3],\n",
       "       [5.4, 3.4, 1.7, 0.2],\n",
       "       [4.8, 3.4, 1.9, 0.2],\n",
       "       [5.7, 3.8, 1.7, 0.3],\n",
       "       [5.1, 3.8, 1.9, 0.4],\n",
       "       [5.1, 3.3, 1.7, 0.5],\n",
       "       [5.7, 2.6, 3.5, 1. ],\n",
       "       [6.6, 2.9, 4.6, 1.3],\n",
       "       [6.3, 3.3, 4.7, 1.6],\n",
       "       [7. , 3.2, 4.7, 1.4],\n",
       "       [5.6, 2.9, 3.6, 1.3],\n",
       "       [5.1, 2.5, 3. , 1.1],\n",
       "       [6.1, 2.9, 4.7, 1.4],\n",
       "       [5.4, 3. , 4.5, 1.5],\n",
       "       [6.7, 3.1, 4.7, 1.5],\n",
       "       [6. , 2.9, 4.5, 1.5],\n",
       "       [6.7, 3. , 5. , 1.7],\n",
       "       [5.9, 3.2, 4.8, 1.8],\n",
       "       [6.1, 2.8, 4.7, 1.2],\n",
       "       [5. , 2.3, 3.3, 1. ],\n",
       "       [5.6, 3. , 4.5, 1.5],\n",
       "       [6.2, 2.2, 4.5, 1.5],\n",
       "       [6.4, 3.2, 4.5, 1.5],\n",
       "       [6.7, 3.1, 4.4, 1.4],\n",
       "       [6.9, 3.1, 4.9, 1.5],\n",
       "       [6. , 3.4, 4.5, 1.6],\n",
       "       [6. , 2.7, 5.1, 1.6],\n",
       "       [6.3, 2.5, 4.9, 1.5],\n",
       "       [4.9, 2.4, 3.3, 1. ],\n",
       "       [7.7, 3.8, 6.7, 2.2],\n",
       "       [6.4, 2.8, 5.6, 2.1],\n",
       "       [5.9, 3. , 5.1, 1.8],\n",
       "       [6.9, 3.1, 5.1, 2.3],\n",
       "       [6.3, 2.5, 5. , 1.9],\n",
       "       [6.2, 3.4, 5.4, 2.3],\n",
       "       [7.9, 3.8, 6.4, 2. ],\n",
       "       [6. , 3. , 4.8, 1.8],\n",
       "       [6.7, 3. , 5.2, 2.3],\n",
       "       [6.2, 2.8, 4.8, 1.8],\n",
       "       [6.3, 2.7, 4.9, 1.8],\n",
       "       [6.4, 3.1, 5.5, 1.8],\n",
       "       [6.5, 3. , 5.2, 2. ],\n",
       "       [6.8, 3. , 5.5, 2.1],\n",
       "       [6.1, 3. , 4.9, 1.8],\n",
       "       [6.4, 3.2, 5.3, 2.3],\n",
       "       [5.8, 2.8, 5.1, 2.4],\n",
       "       [5.8, 2.7, 5.1, 1.9],\n",
       "       [6.3, 2.9, 5.6, 1.8],\n",
       "       [6.7, 2.5, 5.8, 1.8]])"
      ]
     },
     "execution_count": 33,
     "metadata": {},
     "output_type": "execute_result"
    }
   ],
   "source": [
    "clf_4.support_vectors_"
   ]
  },
  {
   "cell_type": "markdown",
   "metadata": {},
   "source": [
    "###### Getting Indices of Support Vectors"
   ]
  },
  {
   "cell_type": "code",
   "execution_count": 31,
   "metadata": {},
   "outputs": [
    {
     "data": {
      "text/plain": [
       "array([  8,  13,  44,  61,  79, 111, 113,  10,  11,  15,  20,  27,  30,\n",
       "        32,  36,  37,  42,  46,  51,  53,  56,  57,  59,  70,  72,  84,\n",
       "        95,  99, 103, 118,   4,   6,   9,  22,  41,  49,  58,  62,  69,\n",
       "        71,  73,  80,  86,  91, 100, 102, 105, 107, 112, 119])"
      ]
     },
     "execution_count": 31,
     "metadata": {},
     "output_type": "execute_result"
    }
   ],
   "source": [
    "clf_4.support_"
   ]
  },
  {
   "cell_type": "markdown",
   "metadata": {},
   "source": [
    "###### Getting Number Of support Vectors for each class"
   ]
  },
  {
   "cell_type": "code",
   "execution_count": 34,
   "metadata": {},
   "outputs": [
    {
     "data": {
      "text/plain": [
       "array([ 7, 23, 20])"
      ]
     },
     "execution_count": 34,
     "metadata": {},
     "output_type": "execute_result"
    }
   ],
   "source": [
    "clf_4.n_support_"
   ]
  },
  {
   "cell_type": "markdown",
   "metadata": {},
   "source": [
    "###### We know that the svm is a binary classifier; also above if we see then we have got decion_function_shape as 'ovr' ; ie. one verses rest;   below we try to get accuracy with one versus one"
   ]
  },
  {
   "cell_type": "code",
   "execution_count": 36,
   "metadata": {},
   "outputs": [
    {
     "data": {
      "text/plain": [
       "SVC(C=1.0, break_ties=False, cache_size=200, class_weight=None, coef0=0.0,\n",
       "    decision_function_shape='ovo', degree=3, gamma='scale', kernel='rbf',\n",
       "    max_iter=-1, probability=False, random_state=None, shrinking=True,\n",
       "    tol=0.001, verbose=False)"
      ]
     },
     "execution_count": 36,
     "metadata": {},
     "output_type": "execute_result"
    }
   ],
   "source": [
    "clf_5 = svm.SVC(decision_function_shape='ovo')\n",
    "clf_5.fit(X_train,Y_train)"
   ]
  },
  {
   "cell_type": "markdown",
   "metadata": {},
   "source": [
    "######  Getting Accuracy of One versus One"
   ]
  },
  {
   "cell_type": "code",
   "execution_count": 93,
   "metadata": {},
   "outputs": [
    {
     "data": {
      "text/plain": [
       "0.9"
      ]
     },
     "execution_count": 93,
     "metadata": {},
     "output_type": "execute_result"
    }
   ],
   "source": [
    "clf_5.score(X_test,Y_test)"
   ]
  },
  {
   "cell_type": "markdown",
   "metadata": {},
   "source": [
    "###### Note that we got the same accuracy for both OVO and OVR; We can say that for a small dataset like standard Iris dataset which is also free from outliers; this is possible."
   ]
  },
  {
   "cell_type": "markdown",
   "metadata": {},
   "source": [
    "###### Linear SVC also goes One Verses Rest(OVO) Let us analyse this also"
   ]
  },
  {
   "cell_type": "code",
   "execution_count": 92,
   "metadata": {},
   "outputs": [
    {
     "name": "stderr",
     "output_type": "stream",
     "text": [
      "c:\\users\\abx9801\\appdata\\local\\programs\\python\\python38\\lib\\site-packages\\sklearn\\svm\\_base.py:946: ConvergenceWarning: Liblinear failed to converge, increase the number of iterations.\n",
      "  warnings.warn(\"Liblinear failed to converge, increase \"\n"
     ]
    },
    {
     "data": {
      "text/plain": [
       "0.8333333333333334"
      ]
     },
     "execution_count": 92,
     "metadata": {},
     "output_type": "execute_result"
    }
   ],
   "source": [
    "clf_6 = svm.LinearSVC()\n",
    "clf_6.fit(X_train,Y_train)\n",
    "clf_6.score(X_test,Y_test)\n"
   ]
  },
  {
   "cell_type": "markdown",
   "metadata": {},
   "source": [
    "### Thus we saw the how to implement different classifiers. Now we will try to plot there accuracy with a bar-graph. "
   ]
  },
  {
   "cell_type": "code",
   "execution_count": 98,
   "metadata": {},
   "outputs": [],
   "source": [
    "import matplotlib.pyplot as plt\n",
    "%matplotlib inline"
   ]
  },
  {
   "cell_type": "code",
   "execution_count": 99,
   "metadata": {},
   "outputs": [],
   "source": [
    "scores = [clf_1.score(X_test,Y_test),clf_2.score(X_test,Y_test),clf_3.score(X_test,Y_test),clf_4.score(X_test,Y_test),clf_5.score(X_test,Y_test),clf_6.score(X_test,Y_test)]\n",
    "algos=['LogisticRegression','KNearestNeighbors','DecisionTreeClassifier','SVM-SVC-OVR','SVM-SVC-OVO','LinearSVM-SVC-Ovr']\n",
    "pos = [0,1,2,3,4,5]"
   ]
  },
  {
   "cell_type": "code",
   "execution_count": 101,
   "metadata": {},
   "outputs": [
    {
     "data": {
      "text/plain": [
       "Text(0.5, 1.0, 'COMPARE CLASSIFIERS')"
      ]
     },
     "execution_count": 101,
     "metadata": {},
     "output_type": "execute_result"
    },
    {
     "data": {
      "image/png": "[encoded data removed]",
      "text/plain": [
       "<Figure size 432x288 with 1 Axes>"
      ]
     },
     "metadata": {
      "needs_background": "light"
     },
     "output_type": "display_data"
    }
   ],
   "source": [
    "plt.xticks(pos,algos,rotation='vertical')\n",
    "plt.bar(pos,scores,color = ['r','b','g','y','c','m'])\n",
    "plt.title(\"COMPARE CLASSIFIERS\")"
   ]
  },
  {
   "cell_type": "markdown",
   "metadata": {},
   "source": [
    "### This marks the end of our project.  We were able to use 4 different Classifiers and Compare them and also visualize them."
   ]
  }
 ],
 "metadata": {
  "kernelspec": {
   "display_name": "Python 3",
   "language": "python",
   "name": "python3"
  },
  "language_info": {
   "codemirror_mode": {
    "name": "ipython",
    "version": 3
   },
   "file_extension": ".py",
   "mimetype": "text/x-python",
   "name": "python",
   "nbconvert_exporter": "python",
   "pygments_lexer": "ipython3",
   "version": "3.8.2"
  }
 },
 "nbformat": 4,
 "nbformat_minor": 4
}
